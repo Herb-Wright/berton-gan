{
 "cells": [
  {
   "cell_type": "markdown",
   "metadata": {},
   "source": [
    "# BertonGan CelebA training file"
   ]
  },
  {
   "cell_type": "code",
   "execution_count": null,
   "metadata": {},
   "outputs": [],
   "source": [
    "# some setup to get colab to work\n",
    "import sys\n",
    "IN_COLAB = 'google.colab' in sys.modules\n",
    "if IN_COLAB:\n",
    "\t!git clone https://github.com/Herb-Wright/berton-gan/\n",
    "\t!mv berton-gan berton_gan\n",
    "\timport os\n",
    "\tsys.path.append(os.path.abspath('berton_gan'))\n",
    "\n",
    "import torch\n",
    "DEVICE = torch.device('cuda' if torch.cuda.is_available() else 'cpu')"
   ]
  },
  {
   "cell_type": "code",
   "execution_count": null,
   "metadata": {},
   "outputs": [],
   "source": [
    "from src import download_celeba\n",
    "\n",
    "# download celeba dataset\n",
    "train_data = download_celeba()"
   ]
  },
  {
   "cell_type": "code",
   "execution_count": null,
   "metadata": {},
   "outputs": [],
   "source": [
    "EXPERIMENT_NAME = 'celeba_experiment_1'"
   ]
  },
  {
   "cell_type": "code",
   "execution_count": null,
   "metadata": {},
   "outputs": [],
   "source": [
    "from src import CelebALoader\n",
    "from torchvision.transforms import Compose, ColorJitter, RandomRotation\n",
    "\n",
    "# define batch sizes\n",
    "n, N = 3, 32\n",
    "\n",
    "# make a transform\n",
    "transform = Compose([\n",
    "\tColorJitter(brightness=0.1, contrast=0.1, hue=0.1),\n",
    "\tRandomRotation(4),\n",
    "])\n",
    "\n",
    "# make our dataloader\n",
    "dataloader = CelebALoader(\n",
    "\tn,\n",
    "\tN, \n",
    "\ttransform=transform\n",
    ")"
   ]
  },
  {
   "cell_type": "code",
   "execution_count": null,
   "metadata": {},
   "outputs": [],
   "source": [
    "from src import train_all_at_once\n",
    "from experiments.utils import load_last_model, save_checkpoint\n",
    "\n",
    "# hyperparameters\n",
    "EPOCHS = 50\n",
    "LR = 1e-2\n",
    "\n",
    "# load last berton_gan\n",
    "berton_gan, epoch = load_last_model('celeba', EXPERIMENT_NAME, verbose=True)\n",
    "\n",
    "# train the gan\n",
    "train_all_at_once(\n",
    "\tberton_gan,\n",
    "\tdataloader,\n",
    "\tEPOCHS,\n",
    "\toptimizer_options={'lr': LR},\n",
    "\tepochs_start=epoch,\n",
    "\tsave_func=(lambda gan, md, epoch: save_checkpoint(gan, md, f'{EXPERIMENT_NAME}/{epoch}')),\n",
    "\tverbose=True\n",
    ")"
   ]
  },
  {
   "cell_type": "code",
   "execution_count": null,
   "metadata": {},
   "outputs": [],
   "source": [
    "# maybe do some things to test how good the model is here??\n",
    "berton_gan.eval()"
   ]
  },
  {
   "cell_type": "code",
   "execution_count": null,
   "metadata": {},
   "outputs": [],
   "source": [
    "# if in colab, download the experiment\n",
    "if IN_COLAB:\n",
    "\tfrom experiments.utils import colab_download_experiment\n",
    "\tcolab_download_experiment(EXPERIMENT_NAME)"
   ]
  }
 ],
 "metadata": {
  "kernelspec": {
   "display_name": "Python 3.10.4 ('school')",
   "language": "python",
   "name": "python3"
  },
  "language_info": {
   "name": "python",
   "version": "3.10.4"
  },
  "orig_nbformat": 4,
  "vscode": {
   "interpreter": {
    "hash": "eafad1310361ab8e4c95ffa136f245d33cf427639dfd67e3b17696128ee3b131"
   }
  }
 },
 "nbformat": 4,
 "nbformat_minor": 2
}
