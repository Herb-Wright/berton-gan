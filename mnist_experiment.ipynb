{
 "cells": [
  {
   "cell_type": "markdown",
   "metadata": {},
   "source": [
    "# BertonGan MNIST Experiments"
   ]
  },
  {
   "cell_type": "code",
   "execution_count": 1,
   "metadata": {},
   "outputs": [],
   "source": [
    "# import stuff\n",
    "from src import BertonGan, MnistLoader, train_all_at_once, download_mnist_data\n",
    "from experiments import show_images\n"
   ]
  },
  {
   "cell_type": "code",
   "execution_count": null,
   "metadata": {},
   "outputs": [],
   "source": [
    "# download mnist data if it doesn't already exist\n",
    "data = download_mnist_data()\n",
    "\n",
    "# print some examples\n",
    "k = 16\n",
    "first_k_imgs = [data[i][0] for i in range(k)]\n",
    "show_images(first_k_imgs, grayscale=True)"
   ]
  },
  {
   "cell_type": "code",
   "execution_count": null,
   "metadata": {},
   "outputs": [],
   "source": [
    "# lets make our BertonGan for mnist\n",
    "berton_gan = BertonGan('mnist')"
   ]
  },
  {
   "cell_type": "code",
   "execution_count": null,
   "metadata": {},
   "outputs": [],
   "source": [
    "TRAIN = True\n",
    "\n",
    "if TRAIN:\n",
    "\t# lets train our Berton Gan on mnist\n",
    "\tn, N, epochs = 3, 16, 5\n",
    "\ttrain_loader = MnistLoader(n, N)\n",
    "\ttrain_all_at_once(berton_gan, train_loader, epochs=epochs, verbose=True)\n"
   ]
  }
 ],
 "metadata": {
  "kernelspec": {
   "display_name": "Python 3.8.10 64-bit",
   "language": "python",
   "name": "python3"
  },
  "language_info": {
   "codemirror_mode": {
    "name": "ipython",
    "version": 3
   },
   "file_extension": ".py",
   "mimetype": "text/x-python",
   "name": "python",
  },
  "orig_nbformat": 4,
  "vscode": {
   "interpreter": {
    "hash": "916dbcbb3f70747c44a77c7bcd40155683ae19c65e1c03b4aa3499c5328201f1"
   }
  }
 },
 "nbformat": 4,
 "nbformat_minor": 2
}
